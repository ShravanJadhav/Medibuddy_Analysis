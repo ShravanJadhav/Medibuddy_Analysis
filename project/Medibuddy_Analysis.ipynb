{
  "nbformat": 4,
  "nbformat_minor": 0,
  "metadata": {
    "colab": {
      "provenance": [],
      "authorship_tag": "ABX9TyMBzeMvM+hqLKuzWe/kiiT5"
    },
    "kernelspec": {
      "name": "python3",
      "display_name": "Python 3"
    },
    "language_info": {
      "name": "python"
    }
  },
  "cells": [
    {
      "cell_type": "code",
      "execution_count": null,
      "metadata": {
        "id": "tdWVaAm_sDVW"
      },
      "outputs": [],
      "source": []
    }
  ]
}